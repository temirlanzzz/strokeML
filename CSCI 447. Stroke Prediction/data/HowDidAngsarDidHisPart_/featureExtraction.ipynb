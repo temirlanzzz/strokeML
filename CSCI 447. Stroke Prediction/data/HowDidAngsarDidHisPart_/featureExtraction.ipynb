{
  "nbformat": 4,
  "nbformat_minor": 0,
  "metadata": {
    "colab": {
      "name": "featureExtraction.ipynb",
      "provenance": []
    },
    "kernelspec": {
      "name": "python3",
      "display_name": "Python 3"
    },
    "language_info": {
      "name": "python"
    }
  },
  "cells": [
    {
      "cell_type": "code",
      "execution_count": 88,
      "metadata": {
        "colab": {
          "base_uri": "https://localhost:8080/"
        },
        "id": "Nv6oLy1BwOPi",
        "outputId": "a9e2c3ca-92b6-412d-c024-9428c7bb7b8c"
      },
      "outputs": [
        {
          "output_type": "stream",
          "name": "stdout",
          "text": [
            "     Patient Number  Day 1  Day 2  Day 3  Day 4  Day 5  Day 6  Day 7  Day 8  \\\n",
            "0                 1     11     11   11.0   11.0    11.0    11   13.0   13.0   \n",
            "1                 2     15     15   15.0   15.0    15.0    15   15.0   15.0   \n",
            "2                 3     13     12   11.0   10.0     9.0     8    8.0    8.0   \n",
            "3                 4     12     12   12.0   12.0    13.0    14   14.0    0.0   \n",
            "4                 5     15     15   15.0   15.0    15.0    15   14.0   15.0   \n",
            "..              ...    ...    ...    ...    ...     ...   ...    ...    ...   \n",
            "145             146      8      8    6.0    6.0     5.0     5    5.0    5.0   \n",
            "146             147     13      6    7.0    7.0     7.0     7    8.0    8.0   \n",
            "147             148      4      9   13.0   13.0    13.0    13   13.0   13.0   \n",
            "148             149     15      5    7.0    8.0     8.0     9   10.0   12.0   \n",
            "149             150     10      6    6.0    7.0     7.0     7    7.0    7.0   \n",
            "\n",
            "     Day 9  ...   81   82   83   84   85   86   87   88   89   90  \n",
            "0      0.0  ...  0.0  0.0  0.0  0.0  0.0  0.0  0.0  0.0  0.0  0.0  \n",
            "1     15.0  ...  0.0  0.0  0.0  0.0  0.0  0.0  0.0  0.0  0.0  0.0  \n",
            "2      8.0  ...  0.0  0.0  0.0  0.0  0.0  0.0  0.0  0.0  0.0  0.0  \n",
            "3      0.0  ...  0.0  0.0  0.0  0.0  0.0  0.0  0.0  0.0  0.0  0.0  \n",
            "4     15.0  ...  0.0  0.0  0.0  0.0  0.0  0.0  0.0  0.0  0.0  0.0  \n",
            "..     ...  ...  ...  ...  ...  ...  ...  ...  ...  ...  ...  ...  \n",
            "145    6.0  ...  0.0  0.0  0.0  0.0  0.0  0.0  0.0  0.0  0.0  0.0  \n",
            "146    8.0  ...  0.0  0.0  0.0  0.0  0.0  0.0  0.0  0.0  0.0  0.0  \n",
            "147   14.0  ...  0.0  0.0  0.0  0.0  0.0  0.0  0.0  0.0  0.0  0.0  \n",
            "148   13.0  ...  0.0  0.0  0.0  0.0  0.0  0.0  0.0  0.0  0.0  0.0  \n",
            "149    7.0  ...  0.0  0.0  0.0  0.0  0.0  0.0  0.0  0.0  0.0  0.0  \n",
            "\n",
            "[150 rows x 91 columns]\n"
          ]
        }
      ],
      "source": [
        "import pandas as pd\n",
        "import math\n",
        "import numpy as np\n",
        "some = pd.read_excel('newGlass.xlsx')\n",
        "some = some.fillna(0)\n",
        "print(some)"
      ]
    },
    {
      "cell_type": "code",
      "source": [
        "arr = []\n",
        "s=0\n",
        "while(s<150):\n",
        "  arr.append([False, 0])\n",
        "  s=s+1\n",
        "s=0\n",
        "for val in some:\n",
        "  if(s!=0):\n",
        "    numbers = some[val].values.tolist()\n",
        "    d=0\n",
        "    for num in numbers:\n",
        "      if(num != 0):\n",
        "        try:\n",
        "          arr[d][1]= arr[d][1]+num\n",
        "        except:\n",
        "          print(\"An exception occurred\")\n",
        "      elif (num==0):\n",
        "        if(arr[d][0] == False):\n",
        "          arr[d][1] = arr[d][1]/(s-1)\n",
        "          arr[d][0] = True\n",
        "      d=d+1\n",
        "  s=s+1\n",
        "print(arr)\n",
        "# prompt = some.iloc[1]\n"
      ],
      "metadata": {
        "colab": {
          "base_uri": "https://localhost:8080/"
        },
        "id": "r1k_vswZ0CUN",
        "outputId": "7ade0429-c8e9-4c0e-c168-2dae511169ac"
      },
      "execution_count": 110,
      "outputs": [
        {
          "output_type": "stream",
          "name": "stdout",
          "text": [
            "An exception occurred\n",
            "[[True, 11.5], [True, 15.0], [True, 9.5], [True, 12.714285714285714], [True, 14.9], [True, 15.0], [True, 15.0], [True, 14.785714285714286], [True, 15.0], [True, 15.0], [True, 15.0], [True, 13.266666666666667], [True, 14.545454545454545], [True, 6.0], [True, 14.333333333333334], [True, 14.75], [True, 14.952380952380953], [True, 14.736842105263158], [True, 12.146341463414634], [True, 9.375], [True, 12.45], [True, 5.0344827586206895], [True, 7.4], [True, 9.333333333333334], [True, 10.555555555555555], [True, 7.5], [True, 7.666666666666667], [True, 4.666666666666667], [True, 9.272727272727273], [True, 7.333333333333333], [True, 7.333333333333333], [True, 7.333333333333333], [True, 4.5], [True, 6.633333333333334], [True, 6.666666666666667], [True, 8.9], [True, 4.666666666666667], [True, 5.333333333333333], [True, 4.285714285714286], [True, 10.0], [True, 6.0], [True, 11.8], [True, 4.0], [True, 6.571428571428571], [True, 10.5], [True, 13.5], [True, 10.2], [True, 13.272727272727273], [True, 11.484848484848484], [True, 12.617647058823529], [True, 13.692307692307692], [True, 7.428571428571429], [True, 14.090909090909092], [True, 11.205128205128204], [True, 9.151515151515152], [True, 12.54], [True, 13.0], [True, 6.0], [True, 5.0], [True, 11.818181818181818], [True, 12.375], [True, 9.777777777777779], [True, 7.4], [True, 8.875], [True, 5.333333333333333], [True, 6.1], [True, 12.112359550561798], [True, 14.0], [True, 8.375], [True, 6.877551020408164], [True, 9.11111111111111], [True, 11.75], [True, 13.714285714285714], [True, 13.166666666666666], [True, 13.095238095238095], [True, 8.8], [True, 3.8], [True, 9.581395348837209], [True, 9.755555555555556], [True, 9.96774193548387], [True, 5.333333333333333], [True, 5.0], [True, 5.9], [True, 4.0], [True, 4.2], [True, 9.0], [True, 6.5], [True, 5.714285714285714], [True, 8.64102564102564], [True, 13.6], [True, 12.692307692307692], [True, 14.0], [True, 12.75], [True, 12.8], [True, 13.88], [True, 13.30952380952381], [True, 13.318181818181818], [True, 12.066666666666666], [True, 12.869565217391305], [True, 8.948717948717949], [True, 7.421052631578948], [True, 9.772727272727273], [True, 12.444444444444445], [True, 13.9], [True, 14.5], [True, 12.9], [True, 11.508771929824562], [True, 4.0], [True, 9.166666666666666], [True, 14.5], [True, 14.3], [True, 14.222222222222221], [True, 13.75], [True, 7.8], [True, 8.5], [True, 5.85], [True, 6.0], [True, 7.8], [True, 5.46875], [True, 13.15625], [True, 14.0], [True, 10.19672131147541], [True, 5.666666666666667], [True, 10.333333333333334], [True, 8.0], [True, 10.4], [True, 12.647058823529411], [True, 12.818181818181818], [True, 14.571428571428571], [True, 13.80952380952381], [True, 13.0], [True, 14.791666666666666], [True, 10.53125], [True, 13.545454545454545], [True, 13.23076923076923], [True, 12.352941176470589], [True, 13.266666666666667], [True, 9.640625], [True, 14.8125], [True, 12.882352941176471], [True, 13.363636363636363], [True, 7.8], [True, 10.1], [True, 7.5], [True, 3.375], [True, 6.617647058823529], [True, 8.703703703703704], [True, 13.45], [True, 12.619047619047619], [True, 9.023809523809524]]\n"
          ]
        }
      ]
    },
    {
      "cell_type": "code",
      "source": [
        "bloodFile = pd.read_excel('bloody.xlsx')\n",
        "bloodyArr = []\n",
        "s=0\n",
        "while(s<150):\n",
        "  bloodyArr.append([0, 0])\n",
        "  s=s+1\n",
        "s=0\n",
        "for val in bloodFile:\n",
        "  if(s!=0 and s%2!=0):\n",
        "    numbers = bloodFile[val].values.tolist()\n",
        "    d=0\n",
        "    for num in numbers:\n",
        "      try:\n",
        "          bloodyArr[d][1]= bloodyArr[d][1]+int(num)\n",
        "          bloodyArr[d][0]=bloodyArr[d][0]+1\n",
        "      except:\n",
        "          print(\"except\")\n",
        "      d=d+1\n",
        "  s=s+1\n",
        "newArr = []\n",
        "s=0\n",
        "while(s<150):\n",
        "  # print(s)\n",
        "  # print(bloodyArr[s][1])\n",
        "  # print(bloodyArr[s][0])\n",
        "  newArr.append(bloodyArr[s][1]/bloodyArr[s][0])\n",
        "  s=s+1\n",
        "print(newArr)"
      ],
      "metadata": {
        "id": "tFp7S8yjFhe7"
      },
      "execution_count": null,
      "outputs": []
    },
    {
      "cell_type": "code",
      "source": [
        "shh = pd.read_excel('shpritz.xlsx')\n",
        "shhArr = []\n",
        "s=0\n",
        "while(s<150):\n",
        "  shhArr.append(0)\n",
        "  s=s+1\n",
        "s=0\n",
        "for val in shh:\n",
        "  if(s!=0):\n",
        "    numbers = shh[val].values.tolist()\n",
        "    d=0\n",
        "    for num in numbers:\n",
        "      try:\n",
        "        s = 0\n",
        "        if num.find(\"Pred\")!=-1:\n",
        "          s=1\n",
        "        if num.find(\"Dex\")!=-1:\n",
        "          s=2\n",
        "        shhArr[d]=s\n",
        "      except:\n",
        "          print(\"except\")\n",
        "      d=d+1\n",
        "  s=s+1\n",
        "print(shhArr)"
      ],
      "metadata": {
        "colab": {
          "base_uri": "https://localhost:8080/"
        },
        "id": "XjoVzfZuOhOY",
        "outputId": "af9af3df-f43c-4c3f-ec8d-ded7b4e9da7c"
      },
      "execution_count": 136,
      "outputs": [
        {
          "output_type": "stream",
          "name": "stdout",
          "text": [
            "[0, 0, 0, 2, 0, 0, 0, 0, 2, 0, 0, 0, 2, 2, 2, 0, 0, 0, 0, 2, 2, 0, 0, 0, 0, 1, 0, 0, 0, 2, 0, 0, 2, 0, 2, 2, 0, 0, 0, 0, 0, 0, 0, 0, 0, 0, 0, 2, 0, 0, 0, 0, 0, 0, 0, 0, 0, 2, 2, 2, 0, 0, 0, 0, 0, 0, 0, 0, 0, 0, 0, 0, 0, 0, 0, 0, 2, 0, 0, 2, 2, 0, 0, 0, 2, 0, 2, 2, 0, 0, 1, 0, 0, 0, 0, 0, 0, 0, 0, 0, 0, 0, 0, 0, 0, 0, 0, 0, 0, 0, 0, 0, 1, 2, 0, 0, 0, 0, 0, 0, 0, 0, 2, 2, 1, 0, 0, 0, 2, 0, 0, 0, 0, 2, 1, 0, 0, 0, 0, 0, 0, 2, 0, 2, 2, 0, 0, 0, 0, 0]\n"
          ]
        }
      ]
    },
    {
      "cell_type": "code",
      "source": [
        "cvdFeaturesSet= set()\n",
        "cvd = pd.read_excel('CVD.xlsx')\n",
        "for val in cvd:\n",
        "  numbers = cvd[val].values.tolist()\n",
        "  for num in numbers:\n",
        "    num = num.lower()\n",
        "    parts = num.split(\".\")\n",
        "    for elem in parts:\n",
        "      if(elem != '' and elem !=\"yes\" and elem!=\"no\"):\n",
        "        cvdFeaturesSet.add(elem)"
      ],
      "metadata": {
        "id": "n_N9RcypSZcR"
      },
      "execution_count": 161,
      "outputs": []
    },
    {
      "cell_type": "code",
      "source": [
        "df1 = pd.DataFrame(cvdFeaturesSet)\n",
        "df1.to_excel(\"output.xlsx\")"
      ],
      "metadata": {
        "id": "sQFc7XeMCPpN"
      },
      "execution_count": 162,
      "outputs": []
    }
  ]
}